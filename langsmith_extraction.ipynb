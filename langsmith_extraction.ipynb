{
 "cells": [
  {
   "cell_type": "code",
   "execution_count": 13,
   "metadata": {},
   "outputs": [
    {
     "name": "stdout",
     "output_type": "stream",
     "text": [
      "Note: you may need to restart the kernel to use updated packages.\n"
     ]
    },
    {
     "name": "stderr",
     "output_type": "stream",
     "text": [
      "\n",
      "[notice] A new release of pip available: 22.3.1 -> 24.0\n",
      "[notice] To update, run: python.exe -m pip install --upgrade pip\n"
     ]
    }
   ],
   "source": [
    "%pip install -U langchain langsmith pandas seaborn --quiet"
   ]
  },
  {
   "cell_type": "code",
   "execution_count": 14,
   "metadata": {},
   "outputs": [
    {
     "name": "stdout",
     "output_type": "stream",
     "text": [
      "env: LANGCHAIN_API_KEY=\"ls__c0f826e0c4514d678c5fdec4a48e6b92\"\n"
     ]
    }
   ],
   "source": [
    "%env LANGCHAIN_API_KEY=\"ls__c0f826e0c4514d678c5fdec4a48e6b92\""
   ]
  },
  {
   "cell_type": "code",
   "execution_count": 15,
   "metadata": {},
   "outputs": [],
   "source": [
    "from langsmith import Client\n",
    "import pandas as pd\n",
    "\n",
    "client = Client()\n",
    "\n",
    "def extract_data(project_name, test_num):\n",
    "    runs = list(\n",
    "    client.list_runs(\n",
    "        project_name=project_name,\n",
    "        is_root=True,\n",
    "        error=False\n",
    "        )\n",
    "    )\n",
    "\n",
    "    df = pd.DataFrame(\n",
    "        [\n",
    "            {\n",
    "                **run.inputs,\n",
    "                \"latency\": (run.end_time - run.start_time).total_seconds()\n",
    "                if run.end_time\n",
    "                else None,  # Pending runs have no end time\n",
    "                \"total_tokens\": run.total_tokens,\n",
    "                \"cost\": run.completion_cost,\n",
    "                \"run_id\": run.id  # Add run ID to the DataFrame\n",
    "            }\n",
    "            for run in runs\n",
    "        ],\n",
    "        index=[run.id for run in runs],\n",
    "    )\n",
    "    df = df.head(test_num)\n",
    "\n",
    "    # Reverse the DataFrame rows\n",
    "    df = df.iloc[::-1]\n",
    "\n",
    "    # Calculate the size of each subset\n",
    "    subset_size = len(df) // 3\n",
    "\n",
    "    # Split the DataFrame into three equal parts\n",
    "    df1 = df.iloc[:subset_size][['input', 'latency', 'total_tokens', 'cost', 'run_id']]\n",
    "    df2 = df.iloc[subset_size:2*subset_size][['input', 'latency', 'total_tokens', 'cost', 'run_id']]\n",
    "    df3 = df.iloc[2*subset_size:3*subset_size][['input', 'latency', 'total_tokens', 'cost', 'run_id']]\n",
    "\n",
    "    # Check if there are any leftover rows and handle them as needed\n",
    "    if len(df) % 3 != 0:\n",
    "        # Here you could append the remaining rows to one of the datasets\n",
    "        # For example, appending to the last dataset\n",
    "        remainder = df.iloc[3*subset_size:]\n",
    "        df3 = pd.concat([df3, remainder])\n",
    "\n",
    "    # Save to Excel files\n",
    "    df1.to_excel(f'Results\\comparison_results\\Easy_comparison\\{project_name}_Easy_langsmith_extraction.xlsx', index=False, engine='openpyxl')\n",
    "    df2.to_excel(f'Results\\comparison_results\\Medium_comparison\\{project_name}_Medium_langsmith_extraction.xlsx', index=False, engine='openpyxl')\n",
    "    df3.to_excel(f'Results\\comparison_results\\Hard_comparison\\{project_name}_Hard_langsmith_extraction.xlsx', index=False, engine='openpyxl')\n",
    "    \n"
   ]
  },
  {
   "cell_type": "code",
   "execution_count": 16,
   "metadata": {},
   "outputs": [],
   "source": [
    "# extract_data(\"Normal\", 30)\n",
    "extract_data(\"ReAct\", 30)\n"
   ]
  }
 ],
 "metadata": {
  "kernelspec": {
   "display_name": "Python 3",
   "language": "python",
   "name": "python3"
  },
  "language_info": {
   "codemirror_mode": {
    "name": "ipython",
    "version": 3
   },
   "file_extension": ".py",
   "mimetype": "text/x-python",
   "name": "python",
   "nbconvert_exporter": "python",
   "pygments_lexer": "ipython3",
   "version": "3.11.1"
  }
 },
 "nbformat": 4,
 "nbformat_minor": 2
}
